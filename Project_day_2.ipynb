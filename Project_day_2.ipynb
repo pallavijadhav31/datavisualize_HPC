{
 "cells": [
  {
   "cell_type": "code",
   "execution_count": 1,
   "metadata": {},
   "outputs": [],
   "source": [
    "from pandas import read_csv\n",
    "from pandas import set_option\n",
    "filename=\"household_power_consumption_main.csv\""
   ]
  },
  {
   "cell_type": "code",
   "execution_count": 3,
   "metadata": {},
   "outputs": [],
   "source": [
    "names=['Global_active_power', 'Global_reactive_power', 'Voltage',\n",
    "       'Global_intensity', 'Sub_metering_1', 'Sub_metering_2',\n",
    "       'Sub_metering_3','Sub_metering_4']"
   ]
  },
  {
   "cell_type": "code",
   "execution_count": 4,
   "metadata": {},
   "outputs": [
    {
     "name": "stderr",
     "output_type": "stream",
     "text": [
      "C:\\Users\\Hp\\Anaconda3\\lib\\site-packages\\IPython\\core\\interactiveshell.py:3058: DtypeWarning: Columns (1,2,3,4,5,6,7,8) have mixed types. Specify dtype option on import or set low_memory=False.\n",
      "  interactivity=interactivity, compiler=compiler, result=result)\n"
     ]
    }
   ],
   "source": [
    "data=read_csv(filename,names=names)"
   ]
  },
  {
   "cell_type": "code",
   "execution_count": 5,
   "metadata": {},
   "outputs": [],
   "source": [
    "set_option('display.width',100)"
   ]
  },
  {
   "cell_type": "code",
   "execution_count": 6,
   "metadata": {},
   "outputs": [],
   "source": [
    "set_option('precision',1)"
   ]
  },
  {
   "cell_type": "code",
   "execution_count": 7,
   "metadata": {},
   "outputs": [
    {
     "data": {
      "text/html": [
       "<div>\n",
       "<style scoped>\n",
       "    .dataframe tbody tr th:only-of-type {\n",
       "        vertical-align: middle;\n",
       "    }\n",
       "\n",
       "    .dataframe tbody tr th {\n",
       "        vertical-align: top;\n",
       "    }\n",
       "\n",
       "    .dataframe thead th {\n",
       "        text-align: right;\n",
       "    }\n",
       "</style>\n",
       "<table border=\"1\" class=\"dataframe\">\n",
       "  <thead>\n",
       "    <tr style=\"text-align: right;\">\n",
       "      <th></th>\n",
       "      <th>Global_active_power</th>\n",
       "      <th>Global_reactive_power</th>\n",
       "      <th>Voltage</th>\n",
       "      <th>Global_intensity</th>\n",
       "      <th>Sub_metering_1</th>\n",
       "      <th>Sub_metering_2</th>\n",
       "      <th>Sub_metering_3</th>\n",
       "      <th>Sub_metering_4</th>\n",
       "    </tr>\n",
       "  </thead>\n",
       "  <tbody>\n",
       "    <tr>\n",
       "      <td>count</td>\n",
       "      <td>2.1e+06</td>\n",
       "      <td>2.1e+06</td>\n",
       "      <td>2.1e+06</td>\n",
       "      <td>2.1e+06</td>\n",
       "      <td>2.1e+06</td>\n",
       "      <td>2.1e+06</td>\n",
       "      <td>2.1e+06</td>\n",
       "      <td>2.1e+06</td>\n",
       "    </tr>\n",
       "    <tr>\n",
       "      <td>unique</td>\n",
       "      <td>7.4e+03</td>\n",
       "      <td>9.0e+02</td>\n",
       "      <td>5.0e+03</td>\n",
       "      <td>4.1e+02</td>\n",
       "      <td>1.5e+02</td>\n",
       "      <td>1.6e+02</td>\n",
       "      <td>5.6e+01</td>\n",
       "      <td>1.4e+04</td>\n",
       "    </tr>\n",
       "    <tr>\n",
       "      <td>top</td>\n",
       "      <td>1.1e+00</td>\n",
       "      <td>0.0e+00</td>\n",
       "      <td>2.4e+02</td>\n",
       "      <td>1.0e+00</td>\n",
       "      <td>0.0e+00</td>\n",
       "      <td>0.0e+00</td>\n",
       "      <td>0.0e+00</td>\n",
       "      <td>9.3e+00</td>\n",
       "    </tr>\n",
       "    <tr>\n",
       "      <td>freq</td>\n",
       "      <td>2.6e+04</td>\n",
       "      <td>4.6e+05</td>\n",
       "      <td>2.6e+04</td>\n",
       "      <td>1.7e+05</td>\n",
       "      <td>1.8e+06</td>\n",
       "      <td>1.4e+06</td>\n",
       "      <td>8.1e+05</td>\n",
       "      <td>2.6e+04</td>\n",
       "    </tr>\n",
       "  </tbody>\n",
       "</table>\n",
       "</div>"
      ],
      "text/plain": [
       "        Global_active_power  Global_reactive_power  Voltage  Global_intensity  Sub_metering_1  \\\n",
       "count               2.1e+06                2.1e+06  2.1e+06           2.1e+06         2.1e+06   \n",
       "unique              7.4e+03                9.0e+02  5.0e+03           4.1e+02         1.5e+02   \n",
       "top                 1.1e+00                0.0e+00  2.4e+02           1.0e+00         0.0e+00   \n",
       "freq                2.6e+04                4.6e+05  2.6e+04           1.7e+05         1.8e+06   \n",
       "\n",
       "        Sub_metering_2  Sub_metering_3  Sub_metering_4  \n",
       "count          2.1e+06         2.1e+06         2.1e+06  \n",
       "unique         1.6e+02         5.6e+01         1.4e+04  \n",
       "top            0.0e+00         0.0e+00         9.3e+00  \n",
       "freq           1.4e+06         8.1e+05         2.6e+04  "
      ]
     },
     "execution_count": 7,
     "metadata": {},
     "output_type": "execute_result"
    }
   ],
   "source": [
    "data.describe()"
   ]
  },
  {
   "cell_type": "code",
   "execution_count": 8,
   "metadata": {},
   "outputs": [
    {
     "data": {
      "text/plain": [
       "Global_active_power      object\n",
       "Global_reactive_power    object\n",
       "Voltage                  object\n",
       "Global_intensity         object\n",
       "Sub_metering_1           object\n",
       "Sub_metering_2           object\n",
       "Sub_metering_3           object\n",
       "Sub_metering_4           object\n",
       "dtype: object"
      ]
     },
     "execution_count": 8,
     "metadata": {},
     "output_type": "execute_result"
    }
   ],
   "source": [
    "data.dtypes"
   ]
  },
  {
   "cell_type": "code",
   "execution_count": 9,
   "metadata": {},
   "outputs": [
    {
     "data": {
      "text/plain": [
       "(2075260, 8)"
      ]
     },
     "execution_count": 9,
     "metadata": {},
     "output_type": "execute_result"
    }
   ],
   "source": [
    "data.shape"
   ]
  },
  {
   "cell_type": "code",
   "execution_count": 10,
   "metadata": {
    "scrolled": true
   },
   "outputs": [
    {
     "data": {
      "text/html": [
       "<div>\n",
       "<style scoped>\n",
       "    .dataframe tbody tr th:only-of-type {\n",
       "        vertical-align: middle;\n",
       "    }\n",
       "\n",
       "    .dataframe tbody tr th {\n",
       "        vertical-align: top;\n",
       "    }\n",
       "\n",
       "    .dataframe thead th {\n",
       "        text-align: right;\n",
       "    }\n",
       "</style>\n",
       "<table border=\"1\" class=\"dataframe\">\n",
       "  <thead>\n",
       "    <tr style=\"text-align: right;\">\n",
       "      <th></th>\n",
       "      <th>Global_active_power</th>\n",
       "      <th>Global_reactive_power</th>\n",
       "      <th>Voltage</th>\n",
       "      <th>Global_intensity</th>\n",
       "      <th>Sub_metering_1</th>\n",
       "      <th>Sub_metering_2</th>\n",
       "      <th>Sub_metering_3</th>\n",
       "      <th>Sub_metering_4</th>\n",
       "    </tr>\n",
       "  </thead>\n",
       "  <tbody>\n",
       "    <tr>\n",
       "      <td>datetime</td>\n",
       "      <td>Global_active_power</td>\n",
       "      <td>Global_reactive_power</td>\n",
       "      <td>Voltage</td>\n",
       "      <td>Global_intensity</td>\n",
       "      <td>Sub_metering_1</td>\n",
       "      <td>Sub_metering_2</td>\n",
       "      <td>Sub_metering_3</td>\n",
       "      <td>sub_metering_4</td>\n",
       "    </tr>\n",
       "    <tr>\n",
       "      <td>2006-12-16 17:24:00</td>\n",
       "      <td>4.216</td>\n",
       "      <td>0.418</td>\n",
       "      <td>234.84</td>\n",
       "      <td>18.4</td>\n",
       "      <td>0.0</td>\n",
       "      <td>1.0</td>\n",
       "      <td>17.0</td>\n",
       "      <td>52.266666666666666</td>\n",
       "    </tr>\n",
       "    <tr>\n",
       "      <td>2006-12-16 17:25:00</td>\n",
       "      <td>5.36</td>\n",
       "      <td>0.436</td>\n",
       "      <td>233.63</td>\n",
       "      <td>23.0</td>\n",
       "      <td>0.0</td>\n",
       "      <td>1.0</td>\n",
       "      <td>16.0</td>\n",
       "      <td>72.33333333333333</td>\n",
       "    </tr>\n",
       "    <tr>\n",
       "      <td>2006-12-16 17:26:00</td>\n",
       "      <td>5.374</td>\n",
       "      <td>0.498</td>\n",
       "      <td>233.29</td>\n",
       "      <td>23.0</td>\n",
       "      <td>0.0</td>\n",
       "      <td>2.0</td>\n",
       "      <td>17.0</td>\n",
       "      <td>70.56666666666666</td>\n",
       "    </tr>\n",
       "    <tr>\n",
       "      <td>2006-12-16 17:27:00</td>\n",
       "      <td>5.388</td>\n",
       "      <td>0.502</td>\n",
       "      <td>233.74</td>\n",
       "      <td>23.0</td>\n",
       "      <td>0.0</td>\n",
       "      <td>1.0</td>\n",
       "      <td>17.0</td>\n",
       "      <td>71.8</td>\n",
       "    </tr>\n",
       "    <tr>\n",
       "      <td>2006-12-16 17:28:00</td>\n",
       "      <td>3.6660000000000004</td>\n",
       "      <td>0.528</td>\n",
       "      <td>235.68</td>\n",
       "      <td>15.8</td>\n",
       "      <td>0.0</td>\n",
       "      <td>1.0</td>\n",
       "      <td>17.0</td>\n",
       "      <td>43.10000000000001</td>\n",
       "    </tr>\n",
       "    <tr>\n",
       "      <td>2006-12-16 17:29:00</td>\n",
       "      <td>3.52</td>\n",
       "      <td>0.522</td>\n",
       "      <td>235.02</td>\n",
       "      <td>15.0</td>\n",
       "      <td>0.0</td>\n",
       "      <td>2.0</td>\n",
       "      <td>17.0</td>\n",
       "      <td>39.666666666666664</td>\n",
       "    </tr>\n",
       "    <tr>\n",
       "      <td>2006-12-16 17:30:00</td>\n",
       "      <td>3.702</td>\n",
       "      <td>0.52</td>\n",
       "      <td>235.09</td>\n",
       "      <td>15.8</td>\n",
       "      <td>0.0</td>\n",
       "      <td>1.0</td>\n",
       "      <td>17.0</td>\n",
       "      <td>43.7</td>\n",
       "    </tr>\n",
       "    <tr>\n",
       "      <td>2006-12-16 17:31:00</td>\n",
       "      <td>3.7</td>\n",
       "      <td>0.52</td>\n",
       "      <td>235.22</td>\n",
       "      <td>15.8</td>\n",
       "      <td>0.0</td>\n",
       "      <td>1.0</td>\n",
       "      <td>17.0</td>\n",
       "      <td>43.666666666666664</td>\n",
       "    </tr>\n",
       "    <tr>\n",
       "      <td>2006-12-16 17:32:00</td>\n",
       "      <td>3.668</td>\n",
       "      <td>0.51</td>\n",
       "      <td>233.99</td>\n",
       "      <td>15.8</td>\n",
       "      <td>0.0</td>\n",
       "      <td>1.0</td>\n",
       "      <td>17.0</td>\n",
       "      <td>43.13333333333333</td>\n",
       "    </tr>\n",
       "    <tr>\n",
       "      <td>2006-12-16 17:33:00</td>\n",
       "      <td>3.662</td>\n",
       "      <td>0.51</td>\n",
       "      <td>233.86</td>\n",
       "      <td>15.8</td>\n",
       "      <td>0.0</td>\n",
       "      <td>2.0</td>\n",
       "      <td>16.0</td>\n",
       "      <td>43.03333333333333</td>\n",
       "    </tr>\n",
       "    <tr>\n",
       "      <td>2006-12-16 17:34:00</td>\n",
       "      <td>4.448</td>\n",
       "      <td>0.498</td>\n",
       "      <td>232.86</td>\n",
       "      <td>19.6</td>\n",
       "      <td>0.0</td>\n",
       "      <td>1.0</td>\n",
       "      <td>17.0</td>\n",
       "      <td>56.13333333333334</td>\n",
       "    </tr>\n",
       "    <tr>\n",
       "      <td>2006-12-16 17:35:00</td>\n",
       "      <td>5.412000000000001</td>\n",
       "      <td>0.47</td>\n",
       "      <td>232.78</td>\n",
       "      <td>23.2</td>\n",
       "      <td>0.0</td>\n",
       "      <td>1.0</td>\n",
       "      <td>17.0</td>\n",
       "      <td>72.20000000000002</td>\n",
       "    </tr>\n",
       "    <tr>\n",
       "      <td>2006-12-16 17:36:00</td>\n",
       "      <td>5.224</td>\n",
       "      <td>0.478</td>\n",
       "      <td>232.99</td>\n",
       "      <td>22.4</td>\n",
       "      <td>0.0</td>\n",
       "      <td>1.0</td>\n",
       "      <td>16.0</td>\n",
       "      <td>70.06666666666666</td>\n",
       "    </tr>\n",
       "    <tr>\n",
       "      <td>2006-12-16 17:37:00</td>\n",
       "      <td>5.268</td>\n",
       "      <td>0.39799999999999996</td>\n",
       "      <td>232.91</td>\n",
       "      <td>22.6</td>\n",
       "      <td>0.0</td>\n",
       "      <td>2.0</td>\n",
       "      <td>17.0</td>\n",
       "      <td>68.8</td>\n",
       "    </tr>\n",
       "    <tr>\n",
       "      <td>2006-12-16 17:38:00</td>\n",
       "      <td>4.053999999999999</td>\n",
       "      <td>0.42200000000000004</td>\n",
       "      <td>235.24</td>\n",
       "      <td>17.6</td>\n",
       "      <td>0.0</td>\n",
       "      <td>1.0</td>\n",
       "      <td>17.0</td>\n",
       "      <td>49.56666666666666</td>\n",
       "    </tr>\n",
       "    <tr>\n",
       "      <td>2006-12-16 17:39:00</td>\n",
       "      <td>3.384</td>\n",
       "      <td>0.282</td>\n",
       "      <td>237.14</td>\n",
       "      <td>14.2</td>\n",
       "      <td>0.0</td>\n",
       "      <td>0.0</td>\n",
       "      <td>17.0</td>\n",
       "      <td>39.4</td>\n",
       "    </tr>\n",
       "    <tr>\n",
       "      <td>2006-12-16 17:40:00</td>\n",
       "      <td>3.27</td>\n",
       "      <td>0.152</td>\n",
       "      <td>236.73</td>\n",
       "      <td>13.8</td>\n",
       "      <td>0.0</td>\n",
       "      <td>0.0</td>\n",
       "      <td>17.0</td>\n",
       "      <td>37.5</td>\n",
       "    </tr>\n",
       "    <tr>\n",
       "      <td>2006-12-16 17:41:00</td>\n",
       "      <td>3.43</td>\n",
       "      <td>0.156</td>\n",
       "      <td>237.06</td>\n",
       "      <td>14.4</td>\n",
       "      <td>0.0</td>\n",
       "      <td>0.0</td>\n",
       "      <td>17.0</td>\n",
       "      <td>40.166666666666664</td>\n",
       "    </tr>\n",
       "    <tr>\n",
       "      <td>2006-12-16 17:42:00</td>\n",
       "      <td>3.266</td>\n",
       "      <td>0.0</td>\n",
       "      <td>237.13</td>\n",
       "      <td>13.8</td>\n",
       "      <td>0.0</td>\n",
       "      <td>0.0</td>\n",
       "      <td>18.0</td>\n",
       "      <td>36.43333333333333</td>\n",
       "    </tr>\n",
       "  </tbody>\n",
       "</table>\n",
       "</div>"
      ],
      "text/plain": [
       "                     Global_active_power  Global_reactive_power  Voltage  Global_intensity  \\\n",
       "datetime             Global_active_power  Global_reactive_power  Voltage  Global_intensity   \n",
       "2006-12-16 17:24:00                4.216                  0.418   234.84              18.4   \n",
       "2006-12-16 17:25:00                 5.36                  0.436   233.63              23.0   \n",
       "2006-12-16 17:26:00                5.374                  0.498   233.29              23.0   \n",
       "2006-12-16 17:27:00                5.388                  0.502   233.74              23.0   \n",
       "2006-12-16 17:28:00   3.6660000000000004                  0.528   235.68              15.8   \n",
       "2006-12-16 17:29:00                 3.52                  0.522   235.02              15.0   \n",
       "2006-12-16 17:30:00                3.702                   0.52   235.09              15.8   \n",
       "2006-12-16 17:31:00                  3.7                   0.52   235.22              15.8   \n",
       "2006-12-16 17:32:00                3.668                   0.51   233.99              15.8   \n",
       "2006-12-16 17:33:00                3.662                   0.51   233.86              15.8   \n",
       "2006-12-16 17:34:00                4.448                  0.498   232.86              19.6   \n",
       "2006-12-16 17:35:00    5.412000000000001                   0.47   232.78              23.2   \n",
       "2006-12-16 17:36:00                5.224                  0.478   232.99              22.4   \n",
       "2006-12-16 17:37:00                5.268    0.39799999999999996   232.91              22.6   \n",
       "2006-12-16 17:38:00    4.053999999999999    0.42200000000000004   235.24              17.6   \n",
       "2006-12-16 17:39:00                3.384                  0.282   237.14              14.2   \n",
       "2006-12-16 17:40:00                 3.27                  0.152   236.73              13.8   \n",
       "2006-12-16 17:41:00                 3.43                  0.156   237.06              14.4   \n",
       "2006-12-16 17:42:00                3.266                    0.0   237.13              13.8   \n",
       "\n",
       "                     Sub_metering_1  Sub_metering_2  Sub_metering_3      Sub_metering_4  \n",
       "datetime             Sub_metering_1  Sub_metering_2  Sub_metering_3      sub_metering_4  \n",
       "2006-12-16 17:24:00             0.0             1.0            17.0  52.266666666666666  \n",
       "2006-12-16 17:25:00             0.0             1.0            16.0   72.33333333333333  \n",
       "2006-12-16 17:26:00             0.0             2.0            17.0   70.56666666666666  \n",
       "2006-12-16 17:27:00             0.0             1.0            17.0                71.8  \n",
       "2006-12-16 17:28:00             0.0             1.0            17.0   43.10000000000001  \n",
       "2006-12-16 17:29:00             0.0             2.0            17.0  39.666666666666664  \n",
       "2006-12-16 17:30:00             0.0             1.0            17.0                43.7  \n",
       "2006-12-16 17:31:00             0.0             1.0            17.0  43.666666666666664  \n",
       "2006-12-16 17:32:00             0.0             1.0            17.0   43.13333333333333  \n",
       "2006-12-16 17:33:00             0.0             2.0            16.0   43.03333333333333  \n",
       "2006-12-16 17:34:00             0.0             1.0            17.0   56.13333333333334  \n",
       "2006-12-16 17:35:00             0.0             1.0            17.0   72.20000000000002  \n",
       "2006-12-16 17:36:00             0.0             1.0            16.0   70.06666666666666  \n",
       "2006-12-16 17:37:00             0.0             2.0            17.0                68.8  \n",
       "2006-12-16 17:38:00             0.0             1.0            17.0   49.56666666666666  \n",
       "2006-12-16 17:39:00             0.0             0.0            17.0                39.4  \n",
       "2006-12-16 17:40:00             0.0             0.0            17.0                37.5  \n",
       "2006-12-16 17:41:00             0.0             0.0            17.0  40.166666666666664  \n",
       "2006-12-16 17:42:00             0.0             0.0            18.0   36.43333333333333  "
      ]
     },
     "execution_count": 10,
     "metadata": {},
     "output_type": "execute_result"
    }
   ],
   "source": [
    "data.head(20)"
   ]
  },
  {
   "cell_type": "code",
   "execution_count": 11,
   "metadata": {
    "scrolled": true
   },
   "outputs": [
    {
     "name": "stdout",
     "output_type": "stream",
     "text": [
      "***Sub_metering_4 counts***\n"
     ]
    },
    {
     "data": {
      "text/plain": [
       "Sub_metering_4\n",
       "-2.400000000000002     1\n",
       "-2.1333333333333337    1\n",
       "-1.9666666666666688    2\n",
       "-1.900000000000002     1\n",
       "-1.8999999999999984    1\n",
       "                      ..\n",
       "94.8                   1\n",
       "95.30000000000001      1\n",
       "96.46666666666667      1\n",
       "98.3                   1\n",
       "sub_metering_4         1\n",
       "Length: 13906, dtype: int64"
      ]
     },
     "execution_count": 11,
     "metadata": {},
     "output_type": "execute_result"
    }
   ],
   "source": [
    "print(\"***Sub_metering_4 counts***\")\n",
    "data.groupby('Sub_metering_4').size()"
   ]
  },
  {
   "cell_type": "code",
   "execution_count": 13,
   "metadata": {},
   "outputs": [],
   "source": [
    "set_option('precision',3)"
   ]
  },
  {
   "cell_type": "markdown",
   "metadata": {},
   "source": [
    "# Data Visualization"
   ]
  },
  {
   "cell_type": "markdown",
   "metadata": {},
   "source": [
    "Single variable - Univariate plots"
   ]
  },
  {
   "cell_type": "code",
   "execution_count": 14,
   "metadata": {
    "scrolled": true
   },
   "outputs": [],
   "source": [
    "from matplotlib import pyplot as plt\n",
    "data=read_csv(filename,names=names,skiprows=1)\n"
   ]
  },
  {
   "cell_type": "code",
   "execution_count": 15,
   "metadata": {},
   "outputs": [
    {
     "data": {
      "image/png": "[encoded data removed]",
      "text/plain": [
       "<Figure size 1152x1152 with 9 Axes>"
      ]
     },
     "metadata": {
      "needs_background": "light"
     },
     "output_type": "display_data"
    }
   ],
   "source": [
    "data.hist(figsize=(16,16))\n",
    "plt.show()"
   ]
  },
  {
   "cell_type": "code",
   "execution_count": 16,
   "metadata": {},
   "outputs": [
    {
     "data": {
      "image/png": "[encoded data removed]",
      "text/plain": [
       "<Figure size 1152x1152 with 9 Axes>"
      ]
     },
     "metadata": {
      "needs_background": "light"
     },
     "output_type": "display_data"
    }
   ],
   "source": [
    "data.plot(kind='box',subplots=True,layout=(3,3),sharex=False,sharey=False,figsize=(16,16))\n",
    "plt.show()"
   ]
  },
  {
   "cell_type": "code",
   "execution_count": null,
   "metadata": {},
   "outputs": [],
   "source": [
    "data.plot(kind='density',subplots=True,layout=(3,3),sharex=False)\n",
    "plt.show()"
   ]
  },
  {
   "cell_type": "code",
   "execution_count": null,
   "metadata": {},
   "outputs": [],
   "source": []
  }
 ],
 "metadata": {
  "kernelspec": {
   "display_name": "Python 3",
   "language": "python",
   "name": "python3"
  },
  "language_info": {
   "codemirror_mode": {
    "name": "ipython",
    "version": 3
   },
   "file_extension": ".py",
   "mimetype": "text/x-python",
   "name": "python",
   "nbconvert_exporter": "python",
   "pygments_lexer": "ipython3",
   "version": "3.7.4"
  }
 },
 "nbformat": 4,
 "nbformat_minor": 2
}
